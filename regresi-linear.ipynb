{
 "cells": [
  {
   "cell_type": "code",
   "execution_count": 1,
   "metadata": {},
   "outputs": [],
   "source": [
    "#Deklarasi library\n",
    "\n",
    "import pandas as pd # -> untuk memanggil data dengan format csv, excel dll.\n",
    "import numpy as np # -> untuk melakukan perhitungan\n",
    "import matplotlib.pyplot as plt # -> untuk melakukan visualisasi data\n",
    "from sklearn.linear_model import LinearRegression # -> untuk perhitungan linear regresi\n",
    "import statsmodels.api as sm"
   ]
  },
  {
   "cell_type": "code",
   "execution_count": 2,
   "metadata": {},
   "outputs": [
    {
     "data": {
      "text/html": [
       "<div>\n",
       "<style scoped>\n",
       "    .dataframe tbody tr th:only-of-type {\n",
       "        vertical-align: middle;\n",
       "    }\n",
       "\n",
       "    .dataframe tbody tr th {\n",
       "        vertical-align: top;\n",
       "    }\n",
       "\n",
       "    .dataframe thead th {\n",
       "        text-align: right;\n",
       "    }\n",
       "</style>\n",
       "<table border=\"1\" class=\"dataframe\">\n",
       "  <thead>\n",
       "    <tr style=\"text-align: right;\">\n",
       "      <th></th>\n",
       "      <th>Data ke -</th>\n",
       "      <th>Tahun</th>\n",
       "      <th>x1</th>\n",
       "      <th>x2</th>\n",
       "      <th>y</th>\n",
       "    </tr>\n",
       "  </thead>\n",
       "  <tbody>\n",
       "    <tr>\n",
       "      <th>0</th>\n",
       "      <td>1</td>\n",
       "      <td>2017-12-01</td>\n",
       "      <td>2.75</td>\n",
       "      <td>5.3</td>\n",
       "      <td>1464</td>\n",
       "    </tr>\n",
       "    <tr>\n",
       "      <th>1</th>\n",
       "      <td>2</td>\n",
       "      <td>2017-11-01</td>\n",
       "      <td>2.50</td>\n",
       "      <td>5.3</td>\n",
       "      <td>1394</td>\n",
       "    </tr>\n",
       "    <tr>\n",
       "      <th>2</th>\n",
       "      <td>3</td>\n",
       "      <td>2017-10-01</td>\n",
       "      <td>2.50</td>\n",
       "      <td>5.3</td>\n",
       "      <td>1357</td>\n",
       "    </tr>\n",
       "    <tr>\n",
       "      <th>3</th>\n",
       "      <td>4</td>\n",
       "      <td>2017-09-01</td>\n",
       "      <td>2.50</td>\n",
       "      <td>5.3</td>\n",
       "      <td>1293</td>\n",
       "    </tr>\n",
       "    <tr>\n",
       "      <th>4</th>\n",
       "      <td>5</td>\n",
       "      <td>2017-08-01</td>\n",
       "      <td>2.50</td>\n",
       "      <td>5.4</td>\n",
       "      <td>1256</td>\n",
       "    </tr>\n",
       "    <tr>\n",
       "      <th>5</th>\n",
       "      <td>6</td>\n",
       "      <td>2017-07-01</td>\n",
       "      <td>2.50</td>\n",
       "      <td>5.6</td>\n",
       "      <td>1254</td>\n",
       "    </tr>\n",
       "    <tr>\n",
       "      <th>6</th>\n",
       "      <td>7</td>\n",
       "      <td>2017-06-01</td>\n",
       "      <td>2.50</td>\n",
       "      <td>5.5</td>\n",
       "      <td>1234</td>\n",
       "    </tr>\n",
       "    <tr>\n",
       "      <th>7</th>\n",
       "      <td>8</td>\n",
       "      <td>2017-05-01</td>\n",
       "      <td>2.25</td>\n",
       "      <td>5.5</td>\n",
       "      <td>1195</td>\n",
       "    </tr>\n",
       "    <tr>\n",
       "      <th>8</th>\n",
       "      <td>9</td>\n",
       "      <td>2017-04-01</td>\n",
       "      <td>2.25</td>\n",
       "      <td>5.5</td>\n",
       "      <td>1159</td>\n",
       "    </tr>\n",
       "    <tr>\n",
       "      <th>9</th>\n",
       "      <td>10</td>\n",
       "      <td>2017-03-01</td>\n",
       "      <td>2.25</td>\n",
       "      <td>5.6</td>\n",
       "      <td>1167</td>\n",
       "    </tr>\n",
       "    <tr>\n",
       "      <th>10</th>\n",
       "      <td>11</td>\n",
       "      <td>2017-02-01</td>\n",
       "      <td>2.00</td>\n",
       "      <td>5.7</td>\n",
       "      <td>1130</td>\n",
       "    </tr>\n",
       "    <tr>\n",
       "      <th>11</th>\n",
       "      <td>12</td>\n",
       "      <td>2017-01-01</td>\n",
       "      <td>2.00</td>\n",
       "      <td>5.9</td>\n",
       "      <td>1075</td>\n",
       "    </tr>\n",
       "    <tr>\n",
       "      <th>12</th>\n",
       "      <td>13</td>\n",
       "      <td>2016-12-01</td>\n",
       "      <td>2.00</td>\n",
       "      <td>6.0</td>\n",
       "      <td>1047</td>\n",
       "    </tr>\n",
       "    <tr>\n",
       "      <th>13</th>\n",
       "      <td>14</td>\n",
       "      <td>2016-11-01</td>\n",
       "      <td>1.75</td>\n",
       "      <td>5.9</td>\n",
       "      <td>965</td>\n",
       "    </tr>\n",
       "    <tr>\n",
       "      <th>14</th>\n",
       "      <td>15</td>\n",
       "      <td>2016-10-01</td>\n",
       "      <td>1.75</td>\n",
       "      <td>5.8</td>\n",
       "      <td>943</td>\n",
       "    </tr>\n",
       "    <tr>\n",
       "      <th>15</th>\n",
       "      <td>16</td>\n",
       "      <td>2016-09-01</td>\n",
       "      <td>1.75</td>\n",
       "      <td>6.1</td>\n",
       "      <td>958</td>\n",
       "    </tr>\n",
       "    <tr>\n",
       "      <th>16</th>\n",
       "      <td>17</td>\n",
       "      <td>2016-08-01</td>\n",
       "      <td>1.75</td>\n",
       "      <td>6.2</td>\n",
       "      <td>971</td>\n",
       "    </tr>\n",
       "    <tr>\n",
       "      <th>17</th>\n",
       "      <td>18</td>\n",
       "      <td>2016-07-01</td>\n",
       "      <td>1.75</td>\n",
       "      <td>6.1</td>\n",
       "      <td>949</td>\n",
       "    </tr>\n",
       "    <tr>\n",
       "      <th>18</th>\n",
       "      <td>19</td>\n",
       "      <td>2016-06-01</td>\n",
       "      <td>1.75</td>\n",
       "      <td>6.1</td>\n",
       "      <td>884</td>\n",
       "    </tr>\n",
       "    <tr>\n",
       "      <th>19</th>\n",
       "      <td>20</td>\n",
       "      <td>2016-05-01</td>\n",
       "      <td>1.75</td>\n",
       "      <td>6.1</td>\n",
       "      <td>866</td>\n",
       "    </tr>\n",
       "    <tr>\n",
       "      <th>20</th>\n",
       "      <td>21</td>\n",
       "      <td>2016-04-01</td>\n",
       "      <td>1.75</td>\n",
       "      <td>5.9</td>\n",
       "      <td>876</td>\n",
       "    </tr>\n",
       "    <tr>\n",
       "      <th>21</th>\n",
       "      <td>22</td>\n",
       "      <td>2016-03-01</td>\n",
       "      <td>1.75</td>\n",
       "      <td>6.2</td>\n",
       "      <td>822</td>\n",
       "    </tr>\n",
       "    <tr>\n",
       "      <th>22</th>\n",
       "      <td>23</td>\n",
       "      <td>2016-02-01</td>\n",
       "      <td>1.75</td>\n",
       "      <td>6.2</td>\n",
       "      <td>704</td>\n",
       "    </tr>\n",
       "    <tr>\n",
       "      <th>23</th>\n",
       "      <td>24</td>\n",
       "      <td>2016-01-01</td>\n",
       "      <td>1.75</td>\n",
       "      <td>6.1</td>\n",
       "      <td>719</td>\n",
       "    </tr>\n",
       "  </tbody>\n",
       "</table>\n",
       "</div>"
      ],
      "text/plain": [
       "    Data ke -      Tahun    x1   x2     y\n",
       "0           1 2017-12-01  2.75  5.3  1464\n",
       "1           2 2017-11-01  2.50  5.3  1394\n",
       "2           3 2017-10-01  2.50  5.3  1357\n",
       "3           4 2017-09-01  2.50  5.3  1293\n",
       "4           5 2017-08-01  2.50  5.4  1256\n",
       "5           6 2017-07-01  2.50  5.6  1254\n",
       "6           7 2017-06-01  2.50  5.5  1234\n",
       "7           8 2017-05-01  2.25  5.5  1195\n",
       "8           9 2017-04-01  2.25  5.5  1159\n",
       "9          10 2017-03-01  2.25  5.6  1167\n",
       "10         11 2017-02-01  2.00  5.7  1130\n",
       "11         12 2017-01-01  2.00  5.9  1075\n",
       "12         13 2016-12-01  2.00  6.0  1047\n",
       "13         14 2016-11-01  1.75  5.9   965\n",
       "14         15 2016-10-01  1.75  5.8   943\n",
       "15         16 2016-09-01  1.75  6.1   958\n",
       "16         17 2016-08-01  1.75  6.2   971\n",
       "17         18 2016-07-01  1.75  6.1   949\n",
       "18         19 2016-06-01  1.75  6.1   884\n",
       "19         20 2016-05-01  1.75  6.1   866\n",
       "20         21 2016-04-01  1.75  5.9   876\n",
       "21         22 2016-03-01  1.75  6.2   822\n",
       "22         23 2016-02-01  1.75  6.2   704\n",
       "23         24 2016-01-01  1.75  6.1   719"
      ]
     },
     "execution_count": 2,
     "metadata": {},
     "output_type": "execute_result"
    }
   ],
   "source": [
    "#Memanggil data dengan format excel \n",
    "df = pd.read_excel(\"C:/Users/adity/Documents/Kuliah/Semester 5/Big Data/Tugas - Py/TUGAS 3/Data.xlsx\")\n",
    "df = pd.DataFrame(df)\n",
    "df"
   ]
  },
  {
   "cell_type": "code",
   "execution_count": 3,
   "metadata": {},
   "outputs": [
    {
     "name": "stdout",
     "output_type": "stream",
     "text": [
      "Coefficient : [-588.96]\n",
      "Intercept : 4471.34\n"
     ]
    }
   ],
   "source": [
    "#Melakukan perhitunagn coefficient dan intercept - linear regresi sederhana\n",
    "x_train = df['x2'].values[:, np.newaxis]\n",
    "y_train = df['y'].values\n",
    "\n",
    "lm = LinearRegression()\n",
    "lm.fit(x_train, y_train)\n",
    "print('Koefiesien Regresi : ' + str(np.round(lm.coef_,2)))\n",
    "print('Konstanta: ' + str(np.round(lm.intercept_,2)))"
   ]
  },
  {
   "cell_type": "code",
   "execution_count": 4,
   "metadata": {},
   "outputs": [
    {
     "data": {
      "image/png": "[encoded data removed]",
      "text/plain": [
       "<Figure size 432x288 with 1 Axes>"
      ]
     },
     "metadata": {
      "needs_background": "light"
     },
     "output_type": "display_data"
    }
   ],
   "source": [
    "#Melakukan visualisasi data\n",
    "pb = lm.predict(x_train)\n",
    "\n",
    "dfc = pd.DataFrame({'x': df['x2'],'y':pb})\n",
    "plt.scatter(df['x2'],df['y'])\n",
    "plt.plot(dfc['x'],dfc['y'],color='orange',linewidth=1)\n",
    "plt.title('Regresi linear x2 dengan y', fontsize=10)\n",
    "plt.xlabel('X2')\n",
    "plt.ylabel('Y')\n",
    "plt.show()"
   ]
  },
  {
   "cell_type": "code",
   "execution_count": 5,
   "metadata": {},
   "outputs": [
    {
     "name": "stdout",
     "output_type": "stream",
     "text": [
      "Coefficient : [ 345.54 -250.15]\n",
      "Intercept : 1798.4\n"
     ]
    }
   ],
   "source": [
    "#Melakukan perhitungan coefficient dan intercet - linaer regresi berganda\n",
    "x_train2 = df[['x1', 'x2']]\n",
    "y_train2 = df['y']\n",
    "\n",
    "lm = LinearRegression()\n",
    "lm.fit(x_train2, y_train2)\n",
    "\n",
    "print('koefisien Regresi : ' + str(np.round(lm.coef_,2)))\n",
    "print('Konstanta : ' + str(np.round(lm.intercept_,2)))\n"
   ]
  },
  {
   "cell_type": "code",
   "execution_count": 11,
   "metadata": {},
   "outputs": [
    {
     "name": "stderr",
     "output_type": "stream",
     "text": [
      "<ipython-input-11-51bcc174e932>:8: UserWarning: color is redundantly defined by the 'color' keyword argument and the fmt string \"r\" (-> color=(1.0, 0.0, 0.0, 1)). The keyword argument will take precedence.\n",
      "  plt.plot(df['x1'],y_pred,'r' ,color='orange',linewidth=1)\n"
     ]
    },
    {
     "data": {
      "image/png": "[encoded data removed]",
      "text/plain": [
       "<Figure size 432x288 with 1 Axes>"
      ]
     },
     "metadata": {
      "needs_background": "light"
     },
     "output_type": "display_data"
    }
   ],
   "source": [
    "#melakukan visualisasi data \n",
    "model_lin = sm.OLS.from_formula(\"y ~ x1\", data = df)\n",
    "result_lin = model_lin.fit()\n",
    "y_pred = result_lin.predict()\n",
    "\n",
    "plt.scatter(df['x1'], df['y'], color='blue')\n",
    "plt.title('Regresi linear berganda x1 dengan y', fontsize=10)\n",
    "plt.plot(df['x1'],y_pred,'r' ,color='orange',linewidth=1)\n",
    "plt.xlabel('X1')\n",
    "plt.ylabel('Y')\n",
    "plt.show()"
   ]
  },
  {
   "cell_type": "code",
   "execution_count": 7,
   "metadata": {},
   "outputs": [
    {
     "data": {
      "image/png": "[encoded data removed]",
      "text/plain": [
       "<Figure size 432x288 with 1 Axes>"
      ]
     },
     "metadata": {
      "needs_background": "light"
     },
     "output_type": "display_data"
    }
   ],
   "source": [
    "#melakukan visualisasi data X2\n",
    "plt.scatter(df['x2'], df['y'], color='blue')\n",
    "dfc = pd.DataFrame({'x': df['x2'],'y':pb})\n",
    "plt.title('Regresi linear berganda nilai x2 dengan y', fontsize=10)\n",
    "plt.plot(dfc['x'],dfc['y'],color='orange',linewidth=1)\n",
    "plt.xlabel('X2')\n",
    "plt.ylabel('Y')\n",
    "plt.show()"
   ]
  },
  {
   "cell_type": "code",
   "execution_count": 8,
   "metadata": {},
   "outputs": [
    {
     "name": "stdout",
     "output_type": "stream",
     "text": [
      "                            OLS Regression Results                            \n",
      "==============================================================================\n",
      "Dep. Variable:                      y   R-squared:                       0.876\n",
      "Model:                            OLS   Adj. R-squared:                  0.870\n",
      "Method:                 Least Squares   F-statistic:                     155.0\n",
      "Date:                Sun, 14 Nov 2021   Prob (F-statistic):           1.95e-11\n",
      "Time:                        22:58:14   Log-Likelihood:                -136.94\n",
      "No. Observations:                  24   AIC:                             277.9\n",
      "Df Residuals:                      22   BIC:                             280.2\n",
      "Df Model:                           1                                         \n",
      "Covariance Type:            nonrobust                                         \n",
      "==============================================================================\n",
      "                 coef    std err          t      P>|t|      [0.025      0.975]\n",
      "------------------------------------------------------------------------------\n",
      "Intercept    -99.4643     95.210     -1.045      0.308    -296.918      97.990\n",
      "x1           564.2039     45.317     12.450      0.000     470.221     658.186\n",
      "==============================================================================\n",
      "Omnibus:                        5.361   Durbin-Watson:                   0.514\n",
      "Prob(Omnibus):                  0.069   Jarque-Bera (JB):                3.647\n",
      "Skew:                          -0.927   Prob(JB):                        0.161\n",
      "Kurtosis:                       3.459   Cond. No.                         15.8\n",
      "==============================================================================\n",
      "\n",
      "Notes:\n",
      "[1] Standard Errors assume that the covariance matrix of the errors is correctly specified.\n"
     ]
    }
   ],
   "source": [
    "#Menghitung niali determinasi dan signifikasi x1 dan y\n",
    "model_lin = sm.OLS.from_formula(\"y ~ x1\", data = df)\n",
    "result_lin = model_lin.fit()\n",
    "\n",
    "print(result_lin.summary())"
   ]
  },
  {
   "cell_type": "code",
   "execution_count": 9,
   "metadata": {},
   "outputs": [
    {
     "name": "stdout",
     "output_type": "stream",
     "text": [
      "                            OLS Regression Results                            \n",
      "==============================================================================\n",
      "Dep. Variable:                      y   R-squared:                       0.851\n",
      "Model:                            OLS   Adj. R-squared:                  0.844\n",
      "Method:                 Least Squares   F-statistic:                     125.4\n",
      "Date:                Sun, 14 Nov 2021   Prob (F-statistic):           1.49e-10\n",
      "Time:                        22:58:14   Log-Likelihood:                -139.14\n",
      "No. Observations:                  24   AIC:                             282.3\n",
      "Df Residuals:                      22   BIC:                             284.6\n",
      "Df Model:                           1                                         \n",
      "Covariance Type:            nonrobust                                         \n",
      "==============================================================================\n",
      "                 coef    std err          t      P>|t|      [0.025      0.975]\n",
      "------------------------------------------------------------------------------\n",
      "Intercept   4471.3393    304.254     14.696      0.000    3840.354    5102.324\n",
      "x2          -588.9621     52.602    -11.196      0.000    -698.053    -479.871\n",
      "==============================================================================\n",
      "Omnibus:                        0.397   Durbin-Watson:                   1.083\n",
      "Prob(Omnibus):                  0.820   Jarque-Bera (JB):                0.535\n",
      "Skew:                          -0.105   Prob(JB):                        0.765\n",
      "Kurtosis:                       2.299   Cond. No.                         107.\n",
      "==============================================================================\n",
      "\n",
      "Notes:\n",
      "[1] Standard Errors assume that the covariance matrix of the errors is correctly specified.\n"
     ]
    }
   ],
   "source": [
    "#Menghitung niali determinasi dan signifikasi x2 dan y\n",
    "model_lin = sm.OLS.from_formula(\"y ~ x2\", data = df)\n",
    "result_lin = model_lin.fit()\n",
    "\n",
    "print(result_lin.summary())"
   ]
  }
 ],
 "metadata": {
  "interpreter": {
   "hash": "2db524e06e9f5f4ffedc911c917cb75e12dbc923643829bf417064a77eb14d37"
  },
  "kernelspec": {
   "display_name": "Python 3.8.5 64-bit",
   "language": "python",
   "name": "python3"
  },
  "language_info": {
   "codemirror_mode": {
    "name": "ipython",
    "version": 3
   },
   "file_extension": ".py",
   "mimetype": "text/x-python",
   "name": "python",
   "nbconvert_exporter": "python",
   "pygments_lexer": "ipython3",
   "version": "3.8.5"
  },
  "orig_nbformat": 4
 },
 "nbformat": 4,
 "nbformat_minor": 2
}
